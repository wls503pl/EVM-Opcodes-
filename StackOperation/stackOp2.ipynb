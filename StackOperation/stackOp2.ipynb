{
 "cells": [
  {
   "cell_type": "code",
   "execution_count": 5,
   "metadata": {},
   "outputs": [],
   "source": [
    "PUSH0 = 0x5F\n",
    "PUSH1 = 0x60\n",
    "PUSH32 = 0x7F\n",
    "POP = 0x50\n",
    "\n",
    "class EVM:\n",
    "    def __init__(self, code):\n",
    "        self.code = code            # Initialize bytecodes, bytes object\n",
    "        self.pc = 0                 # Initialize Programming counter to 0\n",
    "        self.stack = []             # Stack initialized to null\n",
    "\n",
    "    def next_instruction(self):\n",
    "        op = self.code[self.pc]     # acquire current instruction\n",
    "        self.pc += 1                # added by 1\n",
    "        return op\n",
    "\n",
    "    def push(self, size):\n",
    "        data = self.code[self.pc:self.pc + size]    # acquire data from code according size\n",
    "        value = int.from_bytes(data, 'big')         # transfer bytes to int type\n",
    "        self.stack.append(value)                    # push value into stack\n",
    "        self.pc += size                             # pc increases the size unit\n",
    "\n",
    "    def pop(self):\n",
    "        if len(self.stack) == 0:\n",
    "            raise Exception('Stack underflow')\n",
    "        return self.stack.pop()                     # pop out of stack\n",
    "\n",
    "    def run(self):\n",
    "        while self.pc < len(self.code):\n",
    "            op = self.next_instruction()\n",
    "\n",
    "            if PUSH1 <= op <= PUSH32:               # if operation is whthin PUSH1~PUSH32\n",
    "                size = op - PUSH1 + 1\n",
    "                self.push(size)\n",
    "            elif op == PUSH0:                       # if operation is PUSH0\n",
    "                self.stack.append(0)\n",
    "            elif op == POP:                         # if operation is POP\n",
    "                self.pop()"
   ]
  },
  {
   "cell_type": "code",
   "execution_count": 6,
   "metadata": {},
   "outputs": [
    {
     "name": "stdout",
     "output_type": "stream",
     "text": [
      "[1, 1]\n"
     ]
    }
   ],
   "source": [
    "# PUSH1\n",
    "code = b\"\\x60\\x01\\x60\\x01\"\n",
    "evm = EVM(code)\n",
    "evm.run()\n",
    "print(evm.stack)\n",
    "# output: [1, 1]"
   ]
  },
  {
   "cell_type": "code",
   "execution_count": 7,
   "metadata": {},
   "outputs": [
    {
     "data": {
      "text/plain": [
       "[1]"
      ]
     },
     "execution_count": 7,
     "metadata": {},
     "output_type": "execute_result"
    }
   ],
   "source": [
    "# PUSH and POP\n",
    "code = b\"\\x60\\x01\\x60\\x01\\x50\"\n",
    "evm = EVM(code)\n",
    "evm.run()\n",
    "evm.stack\n",
    "# output: [1]"
   ]
  }
 ],
 "metadata": {
  "kernelspec": {
   "display_name": "Python 3",
   "language": "python",
   "name": "python3"
  },
  "language_info": {
   "codemirror_mode": {
    "name": "ipython",
    "version": 3
   },
   "file_extension": ".py",
   "mimetype": "text/x-python",
   "name": "python",
   "nbconvert_exporter": "python",
   "pygments_lexer": "ipython3",
   "version": "3.9.13"
  }
 },
 "nbformat": 4,
 "nbformat_minor": 2
}
